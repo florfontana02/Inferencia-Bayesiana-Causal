{
  "nbformat": 4,
  "nbformat_minor": 0,
  "metadata": {
    "colab": {
      "provenance": []
    },
    "kernelspec": {
      "name": "python3",
      "display_name": "Python 3"
    },
    "language_info": {
      "name": "python"
    }
  },
  "cells": [
    {
      "cell_type": "markdown",
      "source": [
        "#1. Modelo Base vs. Modelo Monty Hall\n",
        "##1.1"
      ],
      "metadata": {
        "id": "lv2v1lp8TsSg"
      }
    },
    {
      "cell_type": "code",
      "source": [
        "import numpy as np\n",
        "import math\n",
        "import matplotlib.pyplot as plt"
      ],
      "metadata": {
        "id": "BrjJKUscVHkI"
      },
      "execution_count": 2,
      "outputs": []
    },
    {
      "cell_type": "code",
      "execution_count": 3,
      "metadata": {
        "id": "zYPLZMVgS2q1"
      },
      "outputs": [],
      "source": [
        "def pr(r):\n",
        "  return 1/3 #para todas las hipotesis devuelvo 1/3\n",
        "\n",
        "def pc(c):\n",
        "  return 1/3\n",
        "\n",
        "def ps_rM0(s,r): #proba de s dado r del modelo M0\n",
        "  return (s != r) * 1/2 #1/2 o 0 segun verdad del (...)\n",
        "\n",
        "def ps_rcM1(s,r,c):\n",
        "  if r != c:\n",
        "    return (s != r) * (c != s) * 1\n",
        "  else:\n",
        "    return (s != r) * 1/2"
      ]
    },
    {
      "cell_type": "code",
      "source": [
        "def prcs_M(r,c,s,m):  #proba conjunta\n",
        "  if m == 0:\n",
        "    return pr(r)*pc(c)*ps_rM0(s,r)\n",
        "  if m == 1:\n",
        "    return pr(r)*pc(c)*ps_rcM1(s,r,c)"
      ],
      "metadata": {
        "id": "QDUGZHt3VKFA"
      },
      "execution_count": 4,
      "outputs": []
    },
    {
      "cell_type": "markdown",
      "source": [
        "##1.2"
      ],
      "metadata": {
        "id": "ZS8AvUD1V9ae"
      }
    },
    {
      "cell_type": "code",
      "source": [
        "#c y m estan fijos. tengo que recorrer todos los otros valores dejandolos fijos.\n",
        "H = np.arange(3) #posibles valores de las hipotesis\n",
        "\n",
        "def ps_cM(s,c,m): #posterior de s dado c P(s|c,M)=P(s,c|M)/P(c|M); P(s,c|M) es marginal de la conjunta\n",
        "  num = 0 #P(s,c|M) = sum_r P(r,c,s|M)\n",
        "  den = 0  #P(c|M)= sum_{r,s} P(r,c,s|M)\n",
        "  for hr in H:\n",
        "    num += prcs_M(hr,c,s,m)\n",
        "    for hs in H:\n",
        "      den += prcs_M(hr,c,hs,m)\n",
        "  return num/den\n",
        "\n",
        "\n",
        "def pr_csM(r,c,s,m): #P(r|c,s,M) = P(r,c,s|M)/P(c,s|M)\n",
        "  num = prcs_M(r,c,s,m) #P(r,c,s|M)\n",
        "  den = 0 #P(c,s|M) = sum_r P(r,c,s|M)\n",
        "  for hr in H:\n",
        "    den += prcs_M(hr,c,s,m)\n",
        "  return num/den\n"
      ],
      "metadata": {
        "id": "bS8dC2NRV-vg"
      },
      "execution_count": 5,
      "outputs": []
    },
    {
      "cell_type": "markdown",
      "source": [
        "Tenemos las predicciones. Ahora multipliquemos las tres para tener la proba de un episodio."
      ],
      "metadata": {
        "id": "Ob7ncN2JZ8Ze"
      }
    },
    {
      "cell_type": "code",
      "source": [
        "def pEpisodio_M(c,s,r,m):\n",
        "  return prcs_M(r,c,s,m)\n",
        "  #return pc(c)*ps_cM(s,c,m)*pr_csM(r,c,s,m)"
      ],
      "metadata": {
        "id": "lBCcvAe1aBrK"
      },
      "execution_count": 6,
      "outputs": []
    },
    {
      "cell_type": "markdown",
      "source": [
        "Probemos..."
      ],
      "metadata": {
        "id": "fo9IskM9b1ui"
      }
    },
    {
      "cell_type": "code",
      "source": [
        "pEpisodio_M(c=1,s=2,r=1,m=1)\n"
      ],
      "metadata": {
        "colab": {
          "base_uri": "https://localhost:8080/"
        },
        "id": "HQ9y1rmkbCYa",
        "outputId": "27c55457-f476-42f8-eb6c-d03b995baf79"
      },
      "execution_count": 7,
      "outputs": [
        {
          "output_type": "execute_result",
          "data": {
            "text/plain": [
              "0.05555555555555555"
            ]
          },
          "metadata": {},
          "execution_count": 7
        }
      ]
    },
    {
      "cell_type": "code",
      "source": [
        "prcs_M(c=1,s=2,r=1,m=1)"
      ],
      "metadata": {
        "colab": {
          "base_uri": "https://localhost:8080/"
        },
        "id": "TInCa5lzbuYx",
        "outputId": "6e4d326d-c236-4311-d81d-c96e33049f12"
      },
      "execution_count": 8,
      "outputs": [
        {
          "output_type": "execute_result",
          "data": {
            "text/plain": [
              "0.05555555555555555"
            ]
          },
          "metadata": {},
          "execution_count": 8
        }
      ]
    },
    {
      "cell_type": "markdown",
      "source": [
        "Da lo mismo efectivamente."
      ],
      "metadata": {
        "id": "-cM_Hjicbvzh"
      }
    },
    {
      "cell_type": "markdown",
      "source": [
        "##1.3\n"
      ],
      "metadata": {
        "id": "GUAuffuIDDuj"
      }
    },
    {
      "cell_type": "code",
      "source": [
        "def simular(T=16,seed=0):\n",
        "  np.random.seed(seed)\n",
        "  Datos = []\n",
        "  for t in range(T):\n",
        "    r = np.random.choice(3, p = [pr(hr) for hr in H])\n",
        "    c = np.random.choice(3, p = [pc(hc) for hc in H])\n",
        "    s = np.random.choice(3, p = [ps_rcM1(hs,r,c) for hs in H]) #ps_rcM1(s,r,c)\n",
        "    Datos.append((c,s,r))\n",
        "  return Datos"
      ],
      "metadata": {
        "id": "Ph_PGrGBcjRR"
      },
      "execution_count": 9,
      "outputs": []
    },
    {
      "cell_type": "code",
      "source": [
        "T = 16\n",
        "Datos = simular(T)\n",
        "print(Datos)"
      ],
      "metadata": {
        "colab": {
          "base_uri": "https://localhost:8080/"
        },
        "id": "Y6ggjLJBfbUh",
        "outputId": "bc5c6846-dfc4-4553-f51c-63235cb62f47"
      },
      "execution_count": 10,
      "outputs": [
        {
          "output_type": "stream",
          "name": "stdout",
          "text": [
            "[(2, 0, 1), (1, 2, 1), (2, 0, 1), (2, 0, 1), (2, 0, 1), (0, 2, 0), (2, 1, 2), (1, 0, 2), (1, 2, 0), (1, 0, 2), (2, 1, 0), (0, 2, 1), (1, 2, 1), (1, 0, 2), (0, 1, 2), (0, 1, 2)]\n"
          ]
        }
      ]
    },
    {
      "cell_type": "markdown",
      "source": [
        "##1.4"
      ],
      "metadata": {
        "id": "-Ob-pWS8fFjD"
      }
    },
    {
      "cell_type": "markdown",
      "source": [
        "Aquí realizo el producto de cada prediccion por episodio (serían episodios independientes)"
      ],
      "metadata": {
        "id": "_p344bBj9Z8w"
      }
    },
    {
      "cell_type": "code",
      "source": [
        "def secuencia_de_predicciones(Datos,m):\n",
        "  pDatos_M = [1]\n",
        "  for t in range(len(Datos)):\n",
        "    c,s,r = Datos[t]\n",
        "    pDatos_M.append(pEpisodio_M(c,s,r,m))\n",
        "  return pDatos_M"
      ],
      "metadata": {
        "id": "1Ralgl4PdtK0"
      },
      "execution_count": 11,
      "outputs": []
    },
    {
      "cell_type": "code",
      "source": [
        "pDatos_M0 = np.prod(secuencia_de_predicciones(Datos,m = 0))\n",
        "pDatos_M1 = np.prod(secuencia_de_predicciones(Datos,m = 1))\n",
        "print(\"Proba del modelo base:\", pDatos_M0)\n",
        "print(\"Proba de Monty Hall:\", pDatos_M1)"
      ],
      "metadata": {
        "colab": {
          "base_uri": "https://localhost:8080/"
        },
        "id": "nBWorYrFiCzb",
        "outputId": "a7bf9b30-d072-4a8b-d984-d03247e418b5"
      },
      "execution_count": 12,
      "outputs": [
        {
          "output_type": "stream",
          "name": "stdout",
          "text": [
            "Proba del modelo base: 8.234550899283273e-21\n",
            "Proba de Monty Hall: 3.372872048346429e-17\n"
          ]
        }
      ]
    },
    {
      "cell_type": "markdown",
      "source": [
        "La de Monty Hall es más alta."
      ],
      "metadata": {
        "id": "WNbfF1jY94JR"
      }
    },
    {
      "cell_type": "markdown",
      "source": [
        "##1.5\n",
        "###1.5.1"
      ],
      "metadata": {
        "id": "McBCytck3F6l"
      }
    },
    {
      "cell_type": "code",
      "source": [
        "log_bayes_factor = np.log10(pDatos_M1/pDatos_M0)\n",
        "\n",
        "print(\"Log Bayes Factor:\", log_bayes_factor)\n",
        "print(\"El modelo 1 preserva\", 10**log_bayes_factor, \"veces más creencia\")"
      ],
      "metadata": {
        "colab": {
          "base_uri": "https://localhost:8080/"
        },
        "id": "FJOYkXBH3Uuq",
        "outputId": "3898d38a-cbc1-48f3-855b-ac21956c559c"
      },
      "execution_count": 13,
      "outputs": [
        {
          "output_type": "stream",
          "name": "stdout",
          "text": [
            "Log Bayes Factor: 3.612359947967774\n",
            "El modelo 1 preserva 4095.999999999998 veces más creencia\n"
          ]
        }
      ]
    },
    {
      "cell_type": "markdown",
      "source": [
        "###1.5.2\n"
      ],
      "metadata": {
        "id": "OQqe97RaMjul"
      }
    },
    {
      "cell_type": "code",
      "source": [
        "N = T * 3\n",
        "\n",
        "log10_predicciones_M0 = np.log10(secuencia_de_predicciones(Datos, m=0))\n",
        "log10_predicciones_M1 = np.log10(secuencia_de_predicciones(Datos, m=1))\n",
        "\n",
        "media_geometrica_M0 = 10 ** (np.sum(log10_predicciones_M0) / N)\n",
        "media_geometrica_M1 = 10 ** (np.sum(log10_predicciones_M1) / N)\n",
        "\n",
        "print(\"Media geometrica base:\", media_geometrica_M0)\n",
        "print(\"Media geometrica Monty Hall:\", media_geometrica_M1)"
      ],
      "metadata": {
        "colab": {
          "base_uri": "https://localhost:8080/"
        },
        "id": "H5yAWKK-Msbn",
        "outputId": "fd9c2bcd-55a6-4686-c2cb-fa227b595e6e"
      },
      "execution_count": 14,
      "outputs": [
        {
          "output_type": "stream",
          "name": "stdout",
          "text": [
            "Media geometrica base: 0.38157141418444396\n",
            "Media geometrica Monty Hall: 0.45376744062979096\n"
          ]
        }
      ]
    },
    {
      "cell_type": "markdown",
      "source": [
        "##1.6"
      ],
      "metadata": {
        "id": "KUwkOkZt_MCn"
      }
    },
    {
      "cell_type": "code",
      "source": [
        "pDatos = (pDatos_M0 * 0.5) + (pDatos_M1 * 0.5)\n",
        "print(pDatos)\n"
      ],
      "metadata": {
        "colab": {
          "base_uri": "https://localhost:8080/"
        },
        "id": "oKpWqMFC_ObB",
        "outputId": "4320cef7-6b01-4f4a-9231-dd07cb1f5e55"
      },
      "execution_count": 15,
      "outputs": [
        {
          "output_type": "stream",
          "name": "stdout",
          "text": [
            "1.6868477517181785e-17\n"
          ]
        }
      ]
    },
    {
      "cell_type": "markdown",
      "source": [
        "##1.7"
      ],
      "metadata": {
        "id": "IblKAQZxFBh0"
      }
    },
    {
      "cell_type": "code",
      "source": [
        "pM0_Datos = pDatos_M0 * 0.5 / pDatos\n",
        "pM1_Datos = pDatos_M1 * 0.5 / pDatos\n",
        "\n",
        "print(\"Proba de modelo base:\", pM0_Datos)\n",
        "print(\"Proba de modelo Monty Hall:\", pM1_Datos)"
      ],
      "metadata": {
        "colab": {
          "base_uri": "https://localhost:8080/"
        },
        "id": "rLRZsFOcFE8G",
        "outputId": "5edf9b96-bdee-4a7e-b24a-1a663f5c99a6"
      },
      "execution_count": 16,
      "outputs": [
        {
          "output_type": "stream",
          "name": "stdout",
          "text": [
            "Proba de modelo base: 0.000244081034903588\n",
            "Proba de modelo Monty Hall: 0.9997559189650964\n"
          ]
        }
      ]
    },
    {
      "cell_type": "markdown",
      "source": [
        "Tiene sentido que el de Monty Hall de casi 1 ya que los episodios los generamos con ese modelo."
      ],
      "metadata": {
        "id": "nB8K8-dNF9b7"
      }
    },
    {
      "cell_type": "markdown",
      "source": [
        "##1.8"
      ],
      "metadata": {
        "id": "JPrVxaoHG5gQ"
      }
    },
    {
      "cell_type": "code",
      "source": [
        "p_M0 = 0.5\n",
        "p_M1 = 0.5\n",
        "\n",
        "posterior_M0 = [0.5]\n",
        "posterior_M1 = [0.5]\n",
        "\n",
        "pDatos_M0 = 1\n",
        "pDatos_M1 = 1\n",
        "\n",
        "\n",
        "for t in range(T):\n",
        "  c, s, r = Datos[t]\n",
        "  # proba de los episodios segun cada modelo\n",
        "  pDatos_M0 *= pEpisodio_M(c, s, r, m=0)\n",
        "  pDatos_M1 *= pEpisodio_M(c, s, r, m=1)\n",
        "  # proba datos con proba total\n",
        "  pDatos = (pDatos_M0 * p_M0) + (pDatos_M1 * p_M1)\n",
        "  # agrego las posteriores al vector\n",
        "  posterior_M0.append(pDatos_M0 * p_M0 / pDatos)\n",
        "  posterior_M1.append(pDatos_M1 * p_M1 / pDatos)\n",
        "\n",
        "\n",
        "plt.plot(range(T+1), posterior_M0, label='Modelo Base')\n",
        "plt.plot(range(T+1), posterior_M1, label='Modelo Monty Hall')\n",
        "plt.xlabel('Episodio')\n",
        "plt.ylabel('Posterior = P(Modelo | Datos)')\n",
        "plt.legend()\n",
        "plt.show()\n",
        "\n",
        "\n",
        "print(posterior_M0)"
      ],
      "metadata": {
        "colab": {
          "base_uri": "https://localhost:8080/",
          "height": 486
        },
        "id": "KaEjsNabH5N0",
        "outputId": "a3fd6443-2264-4013-a573-4112c1b33acd"
      },
      "execution_count": 17,
      "outputs": [
        {
          "output_type": "display_data",
          "data": {
            "text/plain": [
              "<Figure size 640x480 with 1 Axes>"
            ],
            "image/png": "[encoded data removed]"
          },
          "metadata": {}
        },
        {
          "output_type": "stream",
          "name": "stdout",
          "text": [
            "[0.5, 0.3333333333333333, 0.3333333333333333, 0.19999999999999998, 0.11111111111111112, 0.058823529411764705, 0.05882352941176471, 0.058823529411764705, 0.030303030303030304, 0.015384615384615385, 0.007751937984496124, 0.0038910505836575876, 0.0019493177387914231, 0.001949317738791423, 0.000975609756097561, 0.0004880429477794046, 0.000244081034903588]\n"
          ]
        }
      ]
    },
    {
      "cell_type": "markdown",
      "source": [
        "##1.9"
      ],
      "metadata": {
        "id": "4BvgIpJcPjCb"
      }
    },
    {
      "cell_type": "code",
      "source": [
        "from google.colab import drive\n",
        "drive.mount('/content/drive')"
      ],
      "metadata": {
        "id": "mziywBp7-PL_",
        "colab": {
          "base_uri": "https://localhost:8080/"
        },
        "outputId": "95683f9e-2672-4839-dfda-d400c65c5bca"
      },
      "execution_count": 18,
      "outputs": [
        {
          "output_type": "stream",
          "name": "stdout",
          "text": [
            "Mounted at /content/drive\n"
          ]
        }
      ]
    },
    {
      "cell_type": "code",
      "source": [
        "file_path = '/content/drive/MyDrive/Inferencia Bayesiana Causal/Practicas/Practica 1/NoMontyHall.csv'\n",
        "\n",
        "with open(file_path, 'r') as file:\n",
        "  noMontyHall = file.read()"
      ],
      "metadata": {
        "id": "S-uUjnGJRNyd",
        "collapsed": true
      },
      "execution_count": 19,
      "outputs": []
    },
    {
      "cell_type": "code",
      "source": [
        "def pa_p(a, p):\n",
        "    if a == 0:\n",
        "        return 1 - p\n",
        "    elif a == 1:\n",
        "        return p\n",
        "    else:\n",
        "        return 0\n",
        "\n",
        "# inicializo las probabilidades de p de manera uniforme\n",
        "Hp = np.arange(0, 1.1, 0.1)\n",
        "Ha = [0, 1]\n",
        "pp_Datos = [1/11 for i in range(11)]\n",
        "\n",
        "def prcsap_M2(r, c, s, a, ip):  # probabilidad conjunta\n",
        "    return pr(r) * pc(c) * ps_rM0(s, r) ** (1 - a) * ps_rcM1(s, r, c) ** a * pa_p(a, Hp[ip]) * pp_Datos[ip]\n",
        "\n",
        "def pEpisodio_M2(c, s, r):\n",
        "    res = 0\n",
        "    for a in Ha:\n",
        "        for ip in range(len(Hp)):\n",
        "            res += prcsap_M2(r, c, s, a, ip)\n",
        "    return res"
      ],
      "metadata": {
        "id": "GdAypAzMlKgd"
      },
      "execution_count": 20,
      "outputs": []
    },
    {
      "cell_type": "code",
      "source": [
        "# inicializo de las probabilidades y posteriores\n",
        "p_M0 = p_M1 = p_M2 = 1/3\n",
        "posterior_M0 = [p_M0]\n",
        "posterior_M1 = [p_M1]\n",
        "posterior_M2 = [p_M2]\n",
        "\n",
        "pDatos_M0 = pDatos_M1 = pDatos_M2 = 1\n",
        "\n",
        "\n",
        "lines = noMontyHall.strip().split('\\n')[1:]\n",
        "\n",
        "for i, line in enumerate(lines[:60]): # itero por indice y por line los primeros 60 datos\n",
        "    c, s, r = map(int, line.split(','))\n",
        "\n",
        "    # proba de los episodios segun cada modelo\n",
        "    pDatos_M0 *= pEpisodio_M(c, s, r, m=0)\n",
        "    pDatos_M1 *= pEpisodio_M(c, s, r, m=1)\n",
        "    pDatos_M2 *= pEpisodio_M2(c, s, r)\n",
        "\n",
        "    # proba datos con proba total\n",
        "    pDatos = (pDatos_M0 * p_M0) + (pDatos_M1 * p_M1) + (pDatos_M2 * p_M2)\n",
        "\n",
        "    # agrego las posteriores al vector\n",
        "    posterior_M0.append(pDatos_M0 * p_M0 / pDatos)\n",
        "    posterior_M1.append(pDatos_M1 * p_M1 / pDatos)\n",
        "    posterior_M2.append(pDatos_M2 * p_M2 / pDatos)\n",
        "\n",
        "    # actualizo pp_Datos con nuevos datos\n",
        "    new_pp_Datos = []\n",
        "    for ip, p in enumerate(Hp):\n",
        "        suma_prob = 0\n",
        "        for a in Ha:\n",
        "            suma_prob += prcsap_M2(r, c, s, a, ip)\n",
        "        new_pp_Datos.append(suma_prob)\n",
        "\n",
        "    # normalizo las nuevas probabilidades de p (porque discreticé)\n",
        "    suma_total = sum(new_pp_Datos)\n",
        "    pp_Datos = [prob / suma_total for prob in new_pp_Datos]\n",
        "\n",
        "\n",
        "\n",
        "plt.plot(range(len(posterior_M0)), posterior_M0, label='Modelo Base')\n",
        "plt.plot(range(len(posterior_M1)), posterior_M1, label='Modelo Monty Hall')\n",
        "plt.plot(range(len(posterior_M2)), posterior_M2, label='Modelo No Monty Hall')\n",
        "plt.xlabel('Episodio')\n",
        "plt.ylabel('Posterior = P(Modelo | Datos)')\n",
        "plt.legend()\n",
        "plt.show()"
      ],
      "metadata": {
        "id": "MDfl6ZiWfryR",
        "colab": {
          "base_uri": "https://localhost:8080/",
          "height": 449
        },
        "outputId": "3b6b595a-726f-4258-d7ec-1201e52f1666"
      },
      "execution_count": 21,
      "outputs": [
        {
          "output_type": "display_data",
          "data": {
            "text/plain": [
              "<Figure size 640x480 with 1 Axes>"
            ],
            "image/png": "[encoded data removed]"
          },
          "metadata": {}
        }
      ]
    },
    {
      "cell_type": "markdown",
      "source": [
        "#4. Efecto causal del sexo biológico sobre la altura.\n"
      ],
      "metadata": {
        "id": "n-KaTcmolfoi"
      }
    },
    {
      "cell_type": "markdown",
      "source": [
        "\n",
        "\n",
        "     dfghhddh\n",
        "\n",
        "##4.1"
      ],
      "metadata": {
        "id": "qxqH7Vuqnu4T"
      }
    },
    {
      "cell_type": "code",
      "source": [
        "import pandas as pd"
      ],
      "metadata": {
        "id": "H-2MUTaamwiw"
      },
      "execution_count": 22,
      "outputs": []
    },
    {
      "cell_type": "code",
      "source": [
        "file_path = '/content/drive/MyDrive/Inferencia Bayesiana Causal/Practicas/Practica 1/alturas.csv'\n",
        "\n",
        "alturas = pd.read_csv(file_path)\n",
        "print(alturas.head())\n"
      ],
      "metadata": {
        "id": "0Biu-UntnJDt",
        "colab": {
          "base_uri": "https://localhost:8080/"
        },
        "outputId": "ee60499a-1077-4a1c-cc14-b2fc20bd9687"
      },
      "execution_count": 23,
      "outputs": [
        {
          "output_type": "stream",
          "name": "stdout",
          "text": [
            "   id  altura sexo contextura_madre  altura_madre\n",
            "0   1   172.7    M          mediana         159.8\n",
            "1   2   171.5    M          mediana         160.3\n",
            "2   3   162.6    F          mediana         160.5\n",
            "3   4   174.1    M          mediana         159.8\n",
            "4   5   168.3    M          mediana         158.3\n"
          ]
        }
      ]
    },
    {
      "cell_type": "code",
      "source": [
        "masc = alturas[alturas['sexo'] == 'M']\n",
        "fem = alturas[alturas['sexo'] == 'F']\n",
        "\n",
        "plt.scatter(masc['altura_madre'], masc['altura'], label='Masculino', color = 'blue')\n",
        "plt.scatter(fem['altura_madre'], fem['altura'], label='Femenino', color = 'orange')\n",
        "plt.xlabel('Altura madre')\n",
        "plt.ylabel('Altura')\n",
        "plt.legend()\n",
        "plt.show()"
      ],
      "metadata": {
        "id": "qIQgkoV-nx8x",
        "colab": {
          "base_uri": "https://localhost:8080/",
          "height": 449
        },
        "outputId": "cf24bc0f-b19b-43e5-87aa-973a1d9032bb"
      },
      "execution_count": 43,
      "outputs": [
        {
          "output_type": "display_data",
          "data": {
            "text/plain": [
              "<Figure size 640x480 with 1 Axes>"
            ],
            "image/png": "[encoded data removed]"
          },
          "metadata": {}
        }
      ]
    },
    {
      "cell_type": "markdown",
      "source": [
        "## 4.2"
      ],
      "metadata": {
        "id": "A88SZ1OuECeO"
      }
    },
    {
      "cell_type": "code",
      "source": [
        "altura = alturas['altura'].values\n",
        "altura_madre = alturas['altura_madre'].values\n",
        "sexo = alturas['sexo'].values\n",
        "id_persona = alturas['id'].values\n",
        "\n",
        "sexo_femenino = np.where(sexo == 'F', 1, 0)\n",
        "\n",
        "max_id = id_persona.max()\n",
        "grupo_azar = id_persona % (max_id // 2)"
      ],
      "metadata": {
        "id": "RHfaWFEf03mp"
      },
      "execution_count": 44,
      "outputs": []
    },
    {
      "cell_type": "code",
      "source": [
        "Y = altura  # vector de alturas\n",
        "\n",
        "# modelo base\n",
        "X_base = np.vstack((np.ones(len(altura_madre)), altura_madre)).T  # matriz con intercept y altura_madre\n",
        "# calcular los coeficientes usando la fórmula de la regresión lineal\n",
        "# beta = (X.T * X)^(-1) * X.T * Y\n",
        "beta_base = np.linalg.inv(X_base.T @ X_base) @ X_base.T @ Y\n",
        "\n",
        "\n",
        "# modelo biologico\n",
        "X_biologico = np.vstack((np.ones(len(altura_madre)), altura_madre, sexo_femenino)).T  # intercept, altura_madre, sexo_femenino\n",
        "# calcular los coeficientes\n",
        "beta_biologico = np.linalg.inv(X_biologico.T @ X_biologico) @ X_biologico.T @ Y\n",
        "\n",
        "\n",
        "# modelo azar\n",
        "X_azar = np.vstack((np.ones(len(altura_madre)), altura_madre, grupo_azar)).T # intercept, altura_madre, grupo_azar\n",
        "# calcular los coeficientes\n",
        "beta_azar = np.linalg.inv(X_azar.T @ X_azar) @ X_azar.T @ Y"
      ],
      "metadata": {
        "id": "WWG4flVV3jmY"
      },
      "execution_count": 45,
      "outputs": []
    },
    {
      "cell_type": "markdown",
      "source": [
        "##4.3"
      ],
      "metadata": {
        "id": "yUqSjxB-EJO7"
      }
    },
    {
      "cell_type": "markdown",
      "source": [
        "Copio lo del profe (ModeloLineal.py)"
      ],
      "metadata": {
        "id": "Bu4YMS-aFFK8"
      }
    },
    {
      "cell_type": "code",
      "source": [
        "import random\n",
        "import numpy as np\n",
        "from numpy.random import normal as noise\n",
        "import matplotlib.pyplot as plt\n",
        "from scipy.stats import multivariate_normal as normal\n",
        "from scipy.stats import norm\n",
        "import statsmodels.api as sm\n",
        "import copy\n",
        "#phi = polynomial_basis_function\n",
        "\n",
        "random.seed(1)\n",
        "np.random.seed(1)\n",
        "cmap = plt.get_cmap(\"tab10\")\n",
        "\n",
        "\n",
        "BETA = (1/0.2)**2\n",
        "ALPHA = (10e-6) # Bishop usa alpha = 5e-3\n",
        "\n",
        "\n",
        "def posterior(t, Phi, alpha = ALPHA, beta = BETA):\n",
        "    S_N_inv = alpha * np.eye(Phi.shape[1]) + beta * Phi.T.dot(Phi)\n",
        "    S_N = np.linalg.inv(S_N_inv)\n",
        "    m_N = beta * S_N.dot(Phi.T).dot(t)\n",
        "    return m_N, S_N\n",
        "\n",
        "def likelihood(w, t, Phi, beta = BETA):\n",
        "    res = 1\n",
        "    for i in range(len(t)):\n",
        "        mean = w.T.dot(Phi[i])\n",
        "        sigma = np.sqrt(beta**(-1))\n",
        "        res =  res * norm.pdf(t[i],mean,sigma)\n",
        "    return res\n",
        "\n",
        "def moments_predictive(Phi_posteriori, alpha = ALPHA, beta = BETA, t_priori=None, Phi_priori=None):\n",
        "    N, D = Phi_posteriori.shape\n",
        "    if t_priori is None: t_priori, Phi_priori = np.zeros((0,1)), np.zeros((0,D))\n",
        "    m_prior, S_prior = posterior(t_priori, Phi_priori, alpha, beta)\n",
        "    Phi_posteriori.dot(S_prior.dot(Phi_posteriori.T))\n",
        "    sigma2 = Phi_posteriori.dot(S_prior.dot(Phi_posteriori.T)) + (1/beta)*np.eye(Phi_posteriori.shape[0])\n",
        "    mu = Phi_posteriori.dot(m_prior) # m_N.T.dot(Phi)\n",
        "    return mu, sigma2\n",
        "\n",
        "def predictive(t_posteriori, Phi_posteriori, alpha = ALPHA, beta = BETA, t_priori=None, Phi_priori=None):\n",
        "    m, S = moments_predictive(Phi_posteriori, alpha, beta, t_priori, Phi_priori)\n",
        "    return normal.pdf(t_posteriori.ravel(),m.ravel(),S)\n",
        "\n",
        "def log_evidence(t, Phi, alpha = ALPHA, beta = BETA):\n",
        "    N, M = Phi.shape\n",
        "    m_N, S_N = posterior(t, Phi, alpha, beta)\n",
        "    #m_N == beta*S_N.dot(Phi.T).dot(t)\n",
        "    A = np.linalg.inv(S_N)\n",
        "    A_det = np.linalg.det(A)\n",
        "    E_mN = (beta/2) * (t - Phi.dot(m_N)).T.dot(t - Phi.dot(m_N)) \\\n",
        "         + (alpha/2) * m_N.T.dot(m_N)\n",
        "    res = (M/2) * np.log(alpha)   \\\n",
        "        + (N/2) * np.log(beta)    \\\n",
        "        - E_mN                    \\\n",
        "        - (1/2) * np.log(A_det)   \\\n",
        "        - (N/2) * np.log(2*np.pi)\n",
        "    return res\n",
        "\n",
        "def sinus_model(X, variance):\n",
        "    '''Sinus function plus noise'''\n",
        "    return np.sin(2 * np.pi * X) + noise(0,np.sqrt(variance),X.shape)\n",
        "\n",
        "def polynomial_basis_function(x, degree=1):\n",
        "    return x ** degree"
      ],
      "metadata": {
        "id": "dP88DErkFEyV"
      },
      "execution_count": 46,
      "outputs": []
    },
    {
      "cell_type": "code",
      "source": [
        "# Modelo Base: altura = h0 + h1 * altura_madre\n",
        "X_base = np.column_stack((np.ones(len(alturas)), alturas['altura_madre']))\n",
        "y = alturas['altura'].values\n",
        "coef_base = posterior(y, X_base) # Media del maximo a posteriori\n",
        "\n",
        "# Modelo Biológico: altura = h0 + h1 * altura_madre + h2 * I(sexo = F)\n",
        "alturas['sexo_F'] = (alturas['sexo'] == 'F').astype(int)\n",
        "X_biologico = np.column_stack((np.ones(len(alturas)), alturas['altura_madre'], alturas['sexo_F']))\n",
        "coef_biologico = posterior(y, X_biologico)\n",
        "\n",
        "# Modelo azar: altura = h0 + h1 * altura_madre + h2 * (ID mod max(ID)/2)\n",
        "max_ID = alturas['id'].max()\n",
        "alturas['grupo_azar'] = alturas['id'] % (max_ID // 2)\n",
        "num_grupos = int(max_ID // 2)\n",
        "X_azar = np.zeros((len(alturas), num_grupos))\n",
        "X_azar[:, 0] = alturas['altura_madre']\n",
        "for i in range(1, num_grupos):\n",
        "    X_azar[:, i] = (alturas['grupo_azar'] == i).astype(int)\n",
        "\n",
        "X_azar = np.column_stack([alturas['altura_madre'], X_azar])\n",
        "coef_azar = posterior(y, X_azar)"
      ],
      "metadata": {
        "id": "wkd29m2ZD-PO"
      },
      "execution_count": 47,
      "outputs": []
    },
    {
      "cell_type": "code",
      "source": [
        "print(\"Modelo Base\")\n",
        "print(f\"h0: {coef_base[0][0]}, h1: {coef_base[0][1]}\")\n",
        "\n",
        "print(\"\\nModelo Biológico\")\n",
        "print(f\"h0: {coef_biologico[0][0]}, h1: {coef_biologico[0][1]}, h2: {coef_biologico[0][2]}\")\n",
        "\n",
        "print(\"\\nModelo azar\")\n",
        "print(f\"h0 (pendiente común para altura madre): {coef_azar[0][0]}\")\n",
        "for i in range(1, len(coef_azar[0])):\n",
        "    print(f\"h{i+1} (Intercepto para grupo {i}): {coef_azar[0][i]}\")"
      ],
      "metadata": {
        "id": "Ih1ZEW18IBjY",
        "colab": {
          "base_uri": "https://localhost:8080/"
        },
        "outputId": "3ead933c-f75d-4f33-c730-702bc7e73a0b"
      },
      "execution_count": 48,
      "outputs": [
        {
          "output_type": "stream",
          "name": "stdout",
          "text": [
            "Modelo Base\n",
            "h0: 13.411083898961706, h1: 0.9482074688406162\n",
            "\n",
            "Modelo Biológico\n",
            "h0: 70.68978421821583, h1: 0.6316443467754576, h2: -11.67859854656875\n",
            "\n",
            "Modelo azar\n",
            "h0 (pendiente común para altura madre): 0.5335698215879225\n",
            "h2 (Intercepto para grupo 1): 0.5333468344707776\n",
            "h3 (Intercepto para grupo 2): -7.726750633627133\n",
            "h4 (Intercepto para grupo 3): -6.893711909123546\n",
            "h5 (Intercepto para grupo 4): -6.996801255426344\n",
            "h6 (Intercepto para grupo 5): -1.9169789367238566\n",
            "h7 (Intercepto para grupo 6): -5.239865735829641\n",
            "h8 (Intercepto para grupo 7): -4.92340944832722\n",
            "h9 (Intercepto para grupo 8): -6.51029452612396\n",
            "h10 (Intercepto para grupo 9): -6.737154638020948\n",
            "h11 (Intercepto para grupo 10): -5.663762630921432\n",
            "h12 (Intercepto para grupo 11): -6.1459180989382745\n",
            "h13 (Intercepto para grupo 12): -9.790117204826432\n",
            "h14 (Intercepto para grupo 13): -4.063636761423495\n",
            "h15 (Intercepto para grupo 14): -6.060168426625722\n",
            "h16 (Intercepto para grupo 15): 0.0592498776824546\n",
            "h17 (Intercepto para grupo 16): -6.79396430811936\n",
            "h18 (Intercepto para grupo 17): -6.743333370628013\n",
            "h19 (Intercepto para grupo 18): -9.960293836124134\n",
            "h20 (Intercepto para grupo 19): -13.340242684324643\n",
            "h21 (Intercepto para grupo 20): 3.300359697267252\n",
            "h22 (Intercepto para grupo 21): -11.103231547029747\n",
            "h23 (Intercepto para grupo 22): -5.8435859296244725\n",
            "h24 (Intercepto para grupo 23): -4.1606735646184\n",
            "h25 (Intercepto para grupo 24): -7.136775989526423\n",
            "h26 (Intercepto para grupo 25): 2.483524941269906\n"
          ]
        }
      ]
    },
    {
      "cell_type": "code",
      "source": [
        "log_evidencia_base = log_evidence(y, X_base)\n",
        "log_evidencia_biologico = log_evidence(y, X_biologico)\n",
        "log_evidencia_azar = log_evidence(y, X_azar)\n",
        "\n",
        "modelos = ['Base', 'Biológico', 'azar']\n",
        "log_evidencias = [log_evidencia_base, log_evidencia_biologico, log_evidencia_azar]\n",
        "\n",
        "plt.bar(modelos, log_evidencias, color=['blue', 'orange', 'green'])\n",
        "plt.xlabel('Modelos Causales Alternativos')\n",
        "plt.ylabel('Log-Evidencia')\n",
        "plt.title('Evidencia en escala logarítmica de los modelos causales alternativos')\n",
        "plt.show()"
      ],
      "metadata": {
        "colab": {
          "base_uri": "https://localhost:8080/",
          "height": 473
        },
        "id": "Qswlto-eEYsj",
        "outputId": "e7359b7b-190d-4d2d-ce2a-0bfca5a076af"
      },
      "execution_count": 49,
      "outputs": [
        {
          "output_type": "display_data",
          "data": {
            "text/plain": [
              "<Figure size 640x480 with 1 Axes>"
            ],
            "image/png": "[encoded data removed]"
          },
          "metadata": {}
        }
      ]
    },
    {
      "cell_type": "markdown",
      "source": [
        "##4.4\n"
      ],
      "metadata": {
        "id": "miWz9YjLKugX"
      }
    },
    {
      "cell_type": "code",
      "source": [
        "evidencia_base = np.exp(log_evidencia_base / 50)\n",
        "evidencia_biologico = np.exp(log_evidencia_biologico / 50)\n",
        "evidencia_azar = np.exp(log_evidencia_azar / 50)\n",
        "\n",
        "\n",
        "def media_geometrica(evidencias):\n",
        "    producto_evidencias = np.prod(evidencias)\n",
        "    N = len(evidencias)\n",
        "    return producto_evidencias ** (1 / N)\n",
        "\n",
        "# Evidencias de los modelos en formato de lista\n",
        "evidencias_modelos = [evidencia_base, evidencia_biologico, evidencia_azar]\n",
        "\n",
        "# Calcular la media geométrica de las evidencias\n",
        "media_geom_base = media_geometrica([evidencia_base])\n",
        "media_geom_biologico = media_geometrica([evidencia_biologico])\n",
        "media_geom_azar = media_geometrica([evidencia_azar])\n",
        "\n",
        "print(\"Media geométrica de los modelos:\")\n",
        "print(f\"Modelo Base: {media_geom_base}\")\n",
        "print(f\"Modelo Biológico: {media_geom_biologico}\")\n",
        "print(f\"Modelo azar: {media_geom_azar}\")\n"
      ],
      "metadata": {
        "id": "mUu-XTUz6cYv",
        "colab": {
          "base_uri": "https://localhost:8080/"
        },
        "outputId": "19d8b437-93e4-4116-bd04-ac66c2c89547"
      },
      "execution_count": 50,
      "outputs": [
        {
          "output_type": "stream",
          "name": "stdout",
          "text": [
            "Media geométrica de los modelos:\n",
            "Modelo Base: 5.1308446997681835e-216\n",
            "Modelo Biológico: 1.0464988478569294e-39\n",
            "Modelo azar: 6.585148872227927e-138\n"
          ]
        }
      ]
    },
    {
      "cell_type": "markdown",
      "source": [
        "## 4.5"
      ],
      "metadata": {
        "id": "b0sMJVee8WQK"
      }
    },
    {
      "cell_type": "code",
      "source": [
        "print(likelihood(coef_base[0], Y, X_base))\n",
        "print(likelihood(coef_biologico[0], Y, X_biologico))\n",
        "print(likelihood(coef_azar[0], Y, X_azar))"
      ],
      "metadata": {
        "colab": {
          "base_uri": "https://localhost:8080/"
        },
        "id": "sJ4W1zGg9nzb",
        "outputId": "6715d8a5-ec9c-476f-8eb5-d778709d3ecc"
      },
      "execution_count": 51,
      "outputs": [
        {
          "output_type": "stream",
          "name": "stdout",
          "text": [
            "0.0\n",
            "0.0\n",
            "0.0\n"
          ]
        }
      ]
    },
    {
      "cell_type": "markdown",
      "source": [
        "No sé por qué dan 0 las likelihoods"
      ],
      "metadata": {
        "id": "hekTRAvK-Gc3"
      }
    },
    {
      "cell_type": "code",
      "source": [
        "P_modelo_base = 1/3\n",
        "P_modelo_biologico = 1/3\n",
        "P_modelo_azar = 1/3\n",
        "\n",
        "\n",
        "P_datos_base = likelihood(coef_base[0], y, X_base)\n",
        "P_datos_biologico = likelihood(coef_biologico[0], y, X_biologico)\n",
        "P_datos_azar = likelihood(coef_azar[0], y, X_azar)\n",
        "\n",
        "\n",
        "P_datos = (P_datos_base * P_modelo_base + P_datos_biologico * P_modelo_biologico + P_datos_azar * P_modelo_azar)\n",
        "\n",
        "\n",
        "posterior_base = (P_datos_base * P_modelo_base) / P_datos\n",
        "posterior_biologico = (P_datos_biologico * P_modelo_biologico) / P_datos\n",
        "posterior_azar = (P_datos_azar * P_modelo_azar) / P_datos\n",
        "\n",
        "print(\"Posterior - Modelo Base:\", posterior_base)\n",
        "print(\"Posterior - Modelo Biológico:\", posterior_biologico)\n",
        "print(\"Posterior - Modelo Azar:\", posterior_azar)\n"
      ],
      "metadata": {
        "colab": {
          "base_uri": "https://localhost:8080/"
        },
        "id": "A_VW2aTp8blC",
        "outputId": "72e03213-4015-46e3-ffbe-3d338952f10c"
      },
      "execution_count": 52,
      "outputs": [
        {
          "output_type": "stream",
          "name": "stdout",
          "text": [
            "Posterior - Modelo Base: nan\n",
            "Posterior - Modelo Biológico: nan\n",
            "Posterior - Modelo Azar: nan\n"
          ]
        },
        {
          "output_type": "stream",
          "name": "stderr",
          "text": [
            "<ipython-input-52-1a05d8f299ca>:14: RuntimeWarning: invalid value encountered in scalar divide\n",
            "  posterior_base = (P_datos_base * P_modelo_base) / P_datos\n",
            "<ipython-input-52-1a05d8f299ca>:15: RuntimeWarning: invalid value encountered in scalar divide\n",
            "  posterior_biologico = (P_datos_biologico * P_modelo_biologico) / P_datos\n",
            "<ipython-input-52-1a05d8f299ca>:16: RuntimeWarning: invalid value encountered in scalar divide\n",
            "  posterior_azar = (P_datos_azar * P_modelo_azar) / P_datos\n"
          ]
        }
      ]
    }
  ]
}